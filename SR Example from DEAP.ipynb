{
 "cells": [
  {
   "cell_type": "code",
   "execution_count": null,
   "metadata": {},
   "outputs": [],
   "source": []
  },
  {
   "cell_type": "code",
   "execution_count": 38,
   "metadata": {},
   "outputs": [],
   "source": [
    "import operator\n",
    "import math\n",
    "import random\n",
    "import sympy\n",
    "import numpy\n",
    "\n",
    "from deap import algorithms\n",
    "from deap import base\n",
    "from deap import creator\n",
    "from deap import tools\n",
    "from deap import gp"
   ]
  },
  {
   "cell_type": "code",
   "execution_count": 43,
   "metadata": {
    "scrolled": true
   },
   "outputs": [
    {
     "name": "stderr",
     "output_type": "stream",
     "text": [
      "D:\\SoftwareAPPs\\Anaconda\\AnacondaInstaller\\lib\\site-packages\\deap\\creator.py:138: RuntimeWarning: A class named 'FitnessMin' has already been created and it will be overwritten. Consider deleting previous creation of that class or rename it.\n",
      "  warnings.warn(\"A class named '{0}' has already been created and it \"\n",
      "D:\\SoftwareAPPs\\Anaconda\\AnacondaInstaller\\lib\\site-packages\\deap\\creator.py:138: RuntimeWarning: A class named 'Individual' has already been created and it will be overwritten. Consider deleting previous creation of that class or rename it.\n",
      "  warnings.warn(\"A class named '{0}' has already been created and it \"\n"
     ]
    },
    {
     "name": "stdout",
     "output_type": "stream",
     "text": [
      "   \t      \t                        fitness                        \t                      size                     \n",
      "   \t      \t-------------------------------------------------------\t-----------------------------------------------\n",
      "gen\tnevals\tavg    \tgen\tmax  \tmin     \tnevals\tstd    \tavg    \tgen\tmax\tmin\tnevals\tstd    \n",
      "0  \t300   \t1.78879\t0  \t30.34\t0.450825\t300   \t2.67896\t3.54667\t0  \t7  \t2  \t300   \t1.49482\n",
      "1  \t166   \t1.43254\t1  \t44.4437\t0.183711\t166   \t3.05668\t3.60667\t1  \t12 \t1  \t166   \t1.77725\n",
      "2  \t166   \t2.16879\t2  \t315.736\t0.165572\t166   \t18.1873\t3.55   \t2  \t9  \t1  \t166   \t1.62506\n",
      "3  \t163   \t0.98255\t3  \t2.9829 \t0.165572\t163   \t0.712666\t3.42667\t3  \t9  \t1  \t163   \t1.45073\n",
      "4  \t153   \t0.836017\t4  \t14.538 \t0.165572\t153   \t0.979399\t3.77   \t4  \t11 \t1  \t153   \t1.64025\n",
      "5  \t158   \t0.944635\t5  \t18.9739\t0.165572\t158   \t1.61614 \t3.77667\t5  \t10 \t1  \t158   \t1.62894\n",
      "6  \t169   \t0.885819\t6  \t14.2181\t0.165572\t169   \t1.00296 \t4      \t6  \t10 \t1  \t169   \t1.87617\n",
      "7  \t167   \t0.731332\t7  \t3.35292\t0.165572\t167   \t0.56016 \t4.35   \t7  \t10 \t1  \t167   \t1.92722\n",
      "8  \t187   \t0.785916\t8  \t19.1852\t0.13008 \t187   \t1.2426  \t5.13667\t8  \t14 \t1  \t187   \t2.21465\n",
      "9  \t176   \t0.672788\t9  \t14.2339\t0.123719\t176   \t1.00764 \t5.71667\t9  \t14 \t1  \t176   \t2.48389\n",
      "10 \t176   \t0.786975\t10 \t32.4952\t0.123719\t176   \t2.56679 \t6.27333\t10 \t15 \t1  \t176   \t2.33922\n",
      "11 \t167   \t0.961666\t11 \t62.7581\t0.123719\t167   \t4.10149 \t6.75667\t11 \t16 \t1  \t167   \t2.30162\n",
      "12 \t170   \t0.630202\t12 \t18.7613\t0.114276\t170   \t1.55098 \t7.06333\t12 \t16 \t1  \t170   \t2.55199\n",
      "13 \t173   \t0.792442\t13 \t18.7749\t0.114276\t173   \t2.0836  \t7.07333\t13 \t17 \t1  \t173   \t2.3212 \n",
      "14 \t163   \t0.701482\t14 \t16.5323\t0.0935121\t163   \t1.92386 \t7.01   \t14 \t16 \t1  \t163   \t2.74042\n",
      "15 \t178   \t0.796168\t15 \t63.2953\t0.0935121\t178   \t3.82723 \t7.42333\t15 \t17 \t1  \t178   \t3.11942\n",
      "16 \t154   \t0.446513\t16 \t19.0443\t0.0512969\t154   \t1.18016 \t7.73333\t16 \t17 \t1  \t154   \t3.35095\n",
      "17 \t177   \t0.378618\t17 \t4.88791\t0.0512969\t177   \t0.470854\t9.01   \t17 \t22 \t1  \t177   \t3.68464\n",
      "18 \t177   \t0.394816\t18 \t2.552  \t0.0512969\t177   \t0.45627 \t10.14  \t18 \t23 \t2  \t177   \t3.86097\n",
      "19 \t175   \t0.347051\t19 \t2.84707\t0.0147194\t175   \t0.428075\t11     \t19 \t24 \t1  \t175   \t4.21347\n",
      "20 \t167   \t0.370537\t20 \t18.9739\t0.0147194\t167   \t1.15424 \t11.6   \t20 \t25 \t3  \t167   \t4.13441\n",
      "21 \t159   \t0.302206\t21 \t2.54483\t0.0147194\t159   \t0.36307 \t12.78  \t21 \t33 \t1  \t159   \t5.04298\n",
      "22 \t161   \t0.329424\t22 \t5.15351\t0.014539 \t161   \t0.494736\t14.1033\t22 \t32 \t1  \t161   \t5.23762\n",
      "23 \t165   \t0.464998\t23 \t18.9739\t0.0147194\t165   \t1.51044 \t14.8933\t23 \t34 \t1  \t165   \t6.13259\n",
      "24 \t188   \t0.271713\t24 \t3.71933\t0.0147194\t188   \t0.436801\t15.0867\t24 \t34 \t2  \t188   \t6.25719\n",
      "25 \t152   \t0.269631\t25 \t14.5905\t0.0147194\t152   \t0.88428 \t15.22  \t25 \t47 \t1  \t152   \t6.49602\n",
      "26 \t164   \t0.230995\t26 \t4.4082 \t0.0147194\t164   \t0.436685\t16.0633\t26 \t41 \t3  \t164   \t6.52171\n",
      "27 \t159   \t0.185306\t27 \t5.249  \t0.0144201\t159   \t0.410217\t17.2333\t27 \t40 \t1  \t159   \t6.7111 \n",
      "28 \t164   \t0.165298\t28 \t1.98267\t0.0143442\t164   \t0.292591\t18.3   \t28 \t43 \t1  \t164   \t7.23763\n",
      "29 \t174   \t0.172642\t29 \t2.54124\t0.00182347\t174   \t0.352515\t18.33  \t29 \t37 \t1  \t174   \t6.69037\n",
      "30 \t141   \t0.10727 \t30 \t2.61126\t0.00182347\t141   \t0.241954\t19.3   \t30 \t37 \t3  \t141   \t5.483  \n",
      "31 \t154   \t0.129872\t31 \t2.18033\t0.00182347\t154   \t0.269947\t19.7933\t31 \t39 \t3  \t154   \t5.94788\n",
      "32 \t165   \t0.129453\t32 \t2.54124\t0.00182347\t165   \t0.287201\t20.2867\t32 \t43 \t1  \t165   \t6.5175 \n",
      "33 \t173   \t0.16656 \t33 \t2.54124\t0.00182347\t173   \t0.341339\t20.5633\t33 \t43 \t1  \t173   \t7.38823\n",
      "34 \t168   \t0.131975\t34 \t1.52568\t0.00182347\t168   \t0.232491\t20.4233\t34 \t48 \t3  \t168   \t7.45637\n",
      "35 \t153   \t0.152313\t35 \t2.54124\t0.00182347\t153   \t0.324276\t19.82  \t35 \t43 \t2  \t153   \t7.13589\n",
      "36 \t178   \t0.237937\t36 \t16.1106\t0.00182347\t178   \t0.990786\t19.11  \t36 \t43 \t3  \t178   \t7.68318\n",
      "37 \t157   \t0.185061\t37 \t4.76458\t0.00182347\t157   \t0.449021\t18.3667\t37 \t39 \t1  \t157   \t6.31128\n",
      "38 \t184   \t0.185972\t38 \t4.09456\t5.12297e-33\t184   \t0.358825\t17.4767\t38 \t48 \t1  \t184   \t7.37899\n",
      "39 \t149   \t0.193025\t39 \t2.9829 \t5.12297e-33\t149   \t0.377824\t16.87  \t39 \t35 \t1  \t149   \t5.85205\n",
      "40 \t161   \t0.127091\t40 \t1.59859\t5.12297e-33\t161   \t0.216044\t16.4767\t40 \t36 \t1  \t161   \t6.14948\n"
     ]
    }
   ],
   "source": [
    "\n",
    "# Define new functions\n",
    "def protectedDiv(left, right):\n",
    "    try:\n",
    "        return left / right\n",
    "    except ZeroDivisionError:\n",
    "        return 1\n",
    "\n",
    "pset = gp.PrimitiveSet(\"MAIN\", 1)\n",
    "pset.addPrimitive(operator.add, 2)\n",
    "pset.addPrimitive(operator.sub, 2)\n",
    "pset.addPrimitive(operator.mul, 2)\n",
    "pset.addPrimitive(protectedDiv, 2)\n",
    "pset.addPrimitive(operator.neg, 1)\n",
    "pset.addPrimitive(math.cos, 1)\n",
    "pset.addPrimitive(math.sin, 1)\n",
    "pset.addEphemeralConstant(\"rand\", lambda: random.randint(-1,1))\n",
    "pset.renameArguments(ARG0='x')\n",
    "\n",
    "creator.create(\"FitnessMin\", base.Fitness, weights=(-1.0,))\n",
    "creator.create(\"Individual\", gp.PrimitiveTree, fitness=creator.FitnessMin)\n",
    "\n",
    "toolbox = base.Toolbox()\n",
    "toolbox.register(\"expr\", gp.genHalfAndHalf, pset=pset, min_=1, max_=2)\n",
    "toolbox.register(\"individual\", tools.initIterate, creator.Individual, toolbox.expr)\n",
    "toolbox.register(\"population\", tools.initRepeat, list, toolbox.individual)\n",
    "toolbox.register(\"compile\", gp.compile, pset=pset)\n",
    "\n",
    "def evalSymbReg(individual, points):\n",
    "    # Transform the tree expression in a callable function\n",
    "    func = toolbox.compile(expr=individual)\n",
    "    # Evaluate the mean squared error between the expression\n",
    "    # and the real function : x**4 + x**3 + x**2 + x\n",
    "    sqerrors = ((func(x) - x**4 - x**3 - x**2 - x)**2 for x in points)\n",
    "    return math.fsum(sqerrors) / len(points),\n",
    "\n",
    "toolbox.register(\"evaluate\", evalSymbReg, points=[x/10. for x in range(-10,10)])\n",
    "toolbox.register(\"select\", tools.selTournament, tournsize=3)\n",
    "toolbox.register(\"mate\", gp.cxOnePoint)\n",
    "toolbox.register(\"expr_mut\", gp.genFull, min_=0, max_=2)\n",
    "toolbox.register(\"mutate\", gp.mutUniform, expr=toolbox.expr_mut, pset=pset)\n",
    "\n",
    "toolbox.decorate(\"mate\", gp.staticLimit(key=operator.attrgetter(\"height\"), max_value=17))\n",
    "toolbox.decorate(\"mutate\", gp.staticLimit(key=operator.attrgetter(\"height\"), max_value=17))\n",
    "\n",
    "def main():\n",
    "    random.seed(318)\n",
    "\n",
    "    pop = toolbox.population(n=300)\n",
    "    hof = tools.HallOfFame(1)\n",
    "    \n",
    "    stats_fit = tools.Statistics(lambda ind: ind.fitness.values)\n",
    "    stats_size = tools.Statistics(len)\n",
    "    mstats = tools.MultiStatistics(fitness=stats_fit, size=stats_size)\n",
    "    mstats.register(\"avg\", numpy.mean)\n",
    "    mstats.register(\"std\", numpy.std)\n",
    "    mstats.register(\"min\", numpy.min)\n",
    "    mstats.register(\"max\", numpy.max)\n",
    "\n",
    "    pop, log = algorithms.eaSimple(pop, toolbox, 0.5, 0.1, 40, stats=mstats,\n",
    "                                   halloffame=hof, verbose=True)\n",
    "    # print log\n",
    "    return pop, log, hof\n",
    "\n",
    "if __name__ == \"__main__\":\n",
    "    pop, log, hof = main()"
   ]
  },
  {
   "cell_type": "code",
   "execution_count": 90,
   "metadata": {},
   "outputs": [
    {
     "data": {
      "text/latex": [
       "$\\displaystyle x \\left(x \\left(x^{2} + x\\right) + x\\right) + x$"
      ],
      "text/plain": [
       "x*(x*(x**2 + x) + x) + x"
      ]
     },
     "execution_count": 90,
     "metadata": {},
     "output_type": "execute_result"
    }
   ],
   "source": [
    "hof_tree = str(gp.PrimitiveTree(hof)[0])\n",
    "hof_tree_ex = sympy.sympify(hof_tree, locals=converter)\n",
    "hof_tree_ex"
   ]
  },
  {
   "cell_type": "code",
   "execution_count": 89,
   "metadata": {},
   "outputs": [
    {
     "data": {
      "text/latex": [
       "$\\displaystyle x \\left(x \\left(x \\left(x + 1\\right) + 1\\right) + 1\\right)$"
      ],
      "text/plain": [
       "x*(x*(x*(x + 1) + 1) + 1)"
      ]
     },
     "execution_count": 89,
     "metadata": {},
     "output_type": "execute_result"
    }
   ],
   "source": [
    "sympy.simplify(hof_tree_ex)"
   ]
  },
  {
   "cell_type": "code",
   "execution_count": 91,
   "metadata": {},
   "outputs": [
    {
     "data": {
      "text/latex": [
       "$\\displaystyle x^{4} + x^{3} + x^{2} + x$"
      ],
      "text/plain": [
       "x**4 + x**3 + x**2 + x"
      ]
     },
     "execution_count": 91,
     "metadata": {},
     "output_type": "execute_result"
    }
   ],
   "source": [
    "sympy.expand(hof_tree_ex)"
   ]
  },
  {
   "cell_type": "code",
   "execution_count": 65,
   "metadata": {},
   "outputs": [
    {
     "data": {
      "text/latex": [
       "$\\displaystyle \\cos{\\left(\\sin{\\left(x^{2} \\cos{\\left(x \\right)} + x - \\cos{\\left(x^{2} \\right)} - 1 - \\cos{\\left(1 \\right)} + \\sin{\\left(1 \\right)} \\right)} \\sin{\\left(\\cos{\\left(\\sin{\\left(x \\right)} \\right)} \\right)} \\right)}$"
      ],
      "text/plain": [
       "cos(sin(x**2*cos(x) + x - cos(x**2) - 1 - cos(1) + sin(1))*sin(cos(sin(x))))"
      ]
     },
     "execution_count": 65,
     "metadata": {},
     "output_type": "execute_result"
    }
   ],
   "source": [
    "individual_1 = pop[161]\n",
    "tree_1 = gp.PrimitiveTree(individual_1)\n",
    "str(tree_1)\n",
    "sympy.sympify(str(tree), locals=converter)"
   ]
  },
  {
   "cell_type": "code",
   "execution_count": 32,
   "metadata": {},
   "outputs": [
    {
     "data": {
      "text/plain": [
       "[<deap.gp.Primitive at 0x21943166270>,\n",
       " <deap.gp.Primitive at 0x21943166130>,\n",
       " <deap.gp.Primitive at 0x219431662c0>,\n",
       " <deap.gp.Primitive at 0x21943166220>,\n",
       " <deap.gp.Primitive at 0x219431660e0>,\n",
       " <deap.gp.Primitive at 0x219431660e0>,\n",
       " <deap.gp.Primitive at 0x219431660e0>,\n",
       " <deap.gp.Primitive at 0x21943166090>,\n",
       " <deap.gp.Primitive at 0x219431660e0>,\n",
       " <deap.gp.Terminal at 0x21941565f00>,\n",
       " <deap.gp.Terminal at 0x21941565f00>,\n",
       " <deap.gp.Terminal at 0x21941565f00>,\n",
       " <deap.gp.rand1 at 0x21942b70d60>,\n",
       " <deap.gp.Primitive at 0x219431660e0>,\n",
       " <deap.gp.Primitive at 0x219431660e0>,\n",
       " <deap.gp.Primitive at 0x21943166270>,\n",
       " <deap.gp.rand1 at 0x21942d143b0>,\n",
       " <deap.gp.Primitive at 0x219431662c0>,\n",
       " <deap.gp.rand1 at 0x21942d14360>,\n",
       " <deap.gp.Primitive at 0x21943166130>,\n",
       " <deap.gp.Primitive at 0x21943166270>,\n",
       " <deap.gp.Terminal at 0x21941565f00>,\n",
       " <deap.gp.Primitive at 0x21943166130>,\n",
       " <deap.gp.Terminal at 0x21941565f00>,\n",
       " <deap.gp.Terminal at 0x21941565f00>,\n",
       " <deap.gp.Primitive at 0x21943166270>,\n",
       " <deap.gp.Primitive at 0x21943166130>,\n",
       " <deap.gp.Terminal at 0x21941565f00>,\n",
       " <deap.gp.Terminal at 0x21941565f00>,\n",
       " <deap.gp.Primitive at 0x219431662c0>,\n",
       " <deap.gp.Primitive at 0x21943166220>,\n",
       " <deap.gp.Primitive at 0x21943166220>,\n",
       " <deap.gp.Primitive at 0x21943166270>,\n",
       " <deap.gp.Primitive at 0x219431662c0>,\n",
       " <deap.gp.Terminal at 0x21941565f00>]"
      ]
     },
     "execution_count": 32,
     "metadata": {},
     "output_type": "execute_result"
    }
   ],
   "source": [
    "expr = gp.genHalfAndHalf(pset, min_=4, max_=10)\n",
    "expr"
   ]
  },
  {
   "cell_type": "code",
   "execution_count": 33,
   "metadata": {},
   "outputs": [],
   "source": [
    "tree = gp.PrimitiveTree(expr)"
   ]
  },
  {
   "cell_type": "code",
   "execution_count": 17,
   "metadata": {},
   "outputs": [
    {
     "data": {
      "text/plain": [
       "[<deap.gp.Primitive at 0x21943166270>, <deap.gp.Terminal at 0x21941565f00>]"
      ]
     },
     "execution_count": 17,
     "metadata": {},
     "output_type": "execute_result"
    }
   ],
   "source": [
    "tree"
   ]
  },
  {
   "cell_type": "code",
   "execution_count": 34,
   "metadata": {},
   "outputs": [
    {
     "data": {
      "text/plain": [
       "'cos(mul(sin(neg(sub(sub(sub(add(sub(x, x), x), 1), sub(sub(cos(1), sin(1)), mul(cos(x), mul(x, x)))), cos(mul(x, x))))), sin(neg(neg(cos(sin(x)))))))'"
      ]
     },
     "execution_count": 34,
     "metadata": {},
     "output_type": "execute_result"
    }
   ],
   "source": [
    "str(tree)"
   ]
  },
  {
   "cell_type": "code",
   "execution_count": 35,
   "metadata": {},
   "outputs": [],
   "source": [
    "function = gp.compile(tree, pset)\n"
   ]
  },
  {
   "cell_type": "code",
   "execution_count": 36,
   "metadata": {},
   "outputs": [
    {
     "data": {
      "text/plain": [
       "0.9832363969565644"
      ]
     },
     "execution_count": 36,
     "metadata": {},
     "output_type": "execute_result"
    }
   ],
   "source": [
    "function(1)"
   ]
  },
  {
   "cell_type": "code",
   "execution_count": 79,
   "metadata": {},
   "outputs": [
    {
     "name": "stdout",
     "output_type": "stream",
     "text": [
      "Expression: x**2\n"
     ]
    },
    {
     "data": {
      "text/latex": [
       "$\\displaystyle x^{2}$"
      ],
      "text/plain": [
       "x**2"
      ]
     },
     "execution_count": 79,
     "metadata": {},
     "output_type": "execute_result"
    }
   ],
   "source": [
    "converter = {\n",
    "            'sub': lambda x, y: x - y,\n",
    "            'div': lambda x, y: x / y,\n",
    "            'mul': lambda x, y: x * y,\n",
    "            'add': lambda x, y: x + y,\n",
    "            'neg': lambda x: -x,\n",
    "            'abs': lambda x: sympy.Abs(x),\n",
    "            'pow': lambda x, y: x**y,\n",
    "            'sin': lambda x: sympy.sin(x),\n",
    "            'cos': lambda x: sympy.cos(x),\n",
    "            'inv': lambda x: 1 / x,\n",
    "            'sqrt': lambda x: x**0.5,\n",
    "            'self_exp': lambda x: sympy.exp(x**2),\n",
    "            'square': lambda x: x**2\n",
    "        }  # Converter set\n",
    "\n",
    "        \n",
    "# next_e = sympy.sympify(str(tree), locals=converter)\n",
    "next_e = sympy.sympify('mul(x, x)', locals=converter)\n",
    "print('Expression:', next_e)\n",
    "next_e"
   ]
  },
  {
   "cell_type": "code",
   "execution_count": 74,
   "metadata": {},
   "outputs": [
    {
     "data": {
      "text/latex": [
       "$\\displaystyle \\operatorname{add}{\\left(\\operatorname{mul}{\\left(x,\\operatorname{sub}{\\left(x,\\operatorname{neg}{\\left(\\operatorname{mul}{\\left(x,\\operatorname{sub}{\\left(x,\\operatorname{neg}{\\left(\\operatorname{mul}{\\left(x,x \\right)} \\right)} \\right)} \\right)} \\right)} \\right)} \\right)},x \\right)}$"
      ],
      "text/plain": [
       "add(mul(x, sub(x, neg(mul(x, sub(x, neg(mul(x, x))))))), x)"
      ]
     },
     "execution_count": 74,
     "metadata": {},
     "output_type": "execute_result"
    }
   ],
   "source": [
    "hof_tree = str(gp.PrimitiveTree(hof)[0])\n",
    "sympy.simplify(hof_tree, locals=converter)"
   ]
  },
  {
   "cell_type": "code",
   "execution_count": 86,
   "metadata": {},
   "outputs": [
    {
     "data": {
      "text/latex": [
       "$\\displaystyle \\operatorname{mul}{\\left(x,x \\right)}$"
      ],
      "text/plain": [
       "mul(x, x)"
      ]
     },
     "execution_count": 86,
     "metadata": {},
     "output_type": "execute_result"
    }
   ],
   "source": [
    "converter = {\n",
    "            'sub': lambda x, y: x - y,\n",
    "            'div': lambda x, y: x / y,\n",
    "            'mul': lambda x, y: x * y,\n",
    "            'add': lambda x, y: x + y,\n",
    "            'neg': lambda x: -x,\n",
    "            'abs': lambda x: sympy.Abs(x),\n",
    "            'pow': lambda x, y: x**y,\n",
    "            'sin': lambda x: sympy.sin(x),\n",
    "            'cos': lambda x: sympy.cos(x),\n",
    "            'inv': lambda x: 1 / x,\n",
    "            'sqrt': lambda x: x**0.5,\n",
    "            'self_exp': lambda x: sympy.exp(x**2),\n",
    "            'square': lambda x: x**2\n",
    "        }  # Converter set\n",
    "\n",
    "sympy.sympify(\"mul(x, x)\", locals=converter)\n",
    "sympy.sympify('mul(x, x)', locals=converter)"
   ]
  },
  {
   "cell_type": "code",
   "execution_count": null,
   "metadata": {},
   "outputs": [],
   "source": []
  }
 ],
 "metadata": {
  "kernelspec": {
   "display_name": "Python 3",
   "language": "python",
   "name": "python3"
  },
  "language_info": {
   "codemirror_mode": {
    "name": "ipython",
    "version": 3
   },
   "file_extension": ".py",
   "mimetype": "text/x-python",
   "name": "python",
   "nbconvert_exporter": "python",
   "pygments_lexer": "ipython3",
   "version": "3.8.5"
  },
  "latex_envs": {
   "LaTeX_envs_menu_present": true,
   "autoclose": false,
   "autocomplete": true,
   "bibliofile": "biblio.bib",
   "cite_by": "apalike",
   "current_citInitial": 1,
   "eqLabelWithNumbers": true,
   "eqNumInitial": 1,
   "hotkeys": {
    "equation": "Ctrl-E",
    "itemize": "Ctrl-I"
   },
   "labels_anchors": false,
   "latex_user_defs": false,
   "report_style_numbering": true,
   "user_envs_cfg": false
  },
  "toc": {
   "base_numbering": 1,
   "nav_menu": {},
   "number_sections": true,
   "sideBar": true,
   "skip_h1_title": false,
   "title_cell": "Table of Contents",
   "title_sidebar": "Contents",
   "toc_cell": false,
   "toc_position": {},
   "toc_section_display": true,
   "toc_window_display": false
  },
  "varInspector": {
   "cols": {
    "lenName": 16,
    "lenType": 16,
    "lenVar": 40
   },
   "kernels_config": {
    "python": {
     "delete_cmd_postfix": "",
     "delete_cmd_prefix": "del ",
     "library": "var_list.py",
     "varRefreshCmd": "print(var_dic_list())"
    },
    "r": {
     "delete_cmd_postfix": ") ",
     "delete_cmd_prefix": "rm(",
     "library": "var_list.r",
     "varRefreshCmd": "cat(var_dic_list()) "
    }
   },
   "types_to_exclude": [
    "module",
    "function",
    "builtin_function_or_method",
    "instance",
    "_Feature"
   ],
   "window_display": false
  }
 },
 "nbformat": 4,
 "nbformat_minor": 4
}
